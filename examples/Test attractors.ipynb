{
 "cells": [
  {
   "cell_type": "code",
   "execution_count": 1,
   "metadata": {},
   "outputs": [],
   "source": [
    "%load_ext autoreload\n",
    "%autoreload 2"
   ]
  },
  {
   "cell_type": "code",
   "execution_count": 2,
   "metadata": {},
   "outputs": [],
   "source": [
    "from colomoto.minibn import BooleanNetwork\n",
    "import cabean"
   ]
  },
  {
   "cell_type": "code",
   "execution_count": 3,
   "metadata": {},
   "outputs": [],
   "source": [
    "cabean.enable_debug()"
   ]
  },
  {
   "cell_type": "code",
   "execution_count": 4,
   "metadata": {},
   "outputs": [
    {
     "data": {
      "text/plain": [
       "a <- b&i\n",
       "b <- a\n",
       "c <- b|c\n",
       "i <- 0"
      ]
     },
     "execution_count": 4,
     "metadata": {},
     "output_type": "execute_result"
    }
   ],
   "source": [
    "bn = BooleanNetwork()\n",
    "bn[\"a\"] = \"b & i\"\n",
    "bn[\"b\"] = \"a\"\n",
    "bn[\"i\"] = False\n",
    "bn[\"c\"] = \"b|c\"\n",
    "bn"
   ]
  },
  {
   "cell_type": "code",
   "execution_count": 13,
   "metadata": {},
   "outputs": [
    {
     "name": "stdout",
     "output_type": "stream",
     "text": [
      "************************************************************************\n",
      "                       MCMAS v2.0 parallel (beta) \n",
      "\n",
      " This software comes with ABSOLUTELY NO WARRANTY, to the extent\n",
      " permitted by applicable law. \n",
      "\n",
      " Please check http://vas.doc.ic.ac.uk/tools/mcmas/ for the latest release.\n",
      " Please send any feedback to <mcmas@imperial.ac.uk>\n",
      "************************************************************************\n",
      "\n",
      "\n",
      "Command line: cabean -asynbn -newtarjan -newpred -steadystates -compositional 2 /tmp/cabean.ispl\n",
      "======================== find attractor #1 : 1 states ========================\n",
      ": 5 nodes 1 leaves 1 minterms\n",
      "0-0-1-0-  1\n",
      "\n",
      "======================== find attractor #2 : 1 states ========================\n",
      ": 5 nodes 1 leaves 1 minterms\n",
      "0-0-0-0-  1\n",
      "\n",
      "number of attractors = 2\n",
      "time for attractor detection=0.001\n",
      "\n"
     ]
    },
    {
     "data": {
      "text/plain": [
       "[{'a': 0, 'b': 0, 'c': 1, 'i': 0}, {'a': 0, 'b': 0, 'c': 0, 'i': 0}]"
      ]
     },
     "execution_count": 13,
     "metadata": {},
     "output_type": "execute_result"
    }
   ],
   "source": [
    "cabean.attractors(bn)"
   ]
  },
  {
   "cell_type": "code",
   "execution_count": 7,
   "metadata": {},
   "outputs": [],
   "source": [
    "bn2 = BooleanNetwork()\n",
    "bn2[\"a\"] = \"!a & !b\"\n",
    "bn2[\"b\"] = \"!a & !b\""
   ]
  },
  {
   "cell_type": "code",
   "execution_count": 14,
   "metadata": {},
   "outputs": [
    {
     "name": "stdout",
     "output_type": "stream",
     "text": [
      "************************************************************************\n",
      "                       MCMAS v2.0 parallel (beta) \n",
      "\n",
      " This software comes with ABSOLUTELY NO WARRANTY, to the extent\n",
      " permitted by applicable law. \n",
      "\n",
      " Please check http://vas.doc.ic.ac.uk/tools/mcmas/ for the latest release.\n",
      " Please send any feedback to <mcmas@imperial.ac.uk>\n",
      "************************************************************************\n",
      "\n",
      "\n",
      "Command line: cabean -asynbn -newtarjan -newpred -steadystates -compositional 2 /tmp/cabean.ispl\n",
      "======================== find attractor #1 : 3 states ========================\n",
      ": 3 nodes 1 leaves 3 minterms\n",
      "0---  1\n",
      "1-0-  1\n",
      "\n",
      "number of attractors = 1\n",
      "time for attractor detection=0.001\n",
      "\n"
     ]
    },
    {
     "data": {
      "text/plain": [
       "[[{'a': 0, 'b': '*'}, {'a': 1, 'b': 0}]]"
      ]
     },
     "execution_count": 14,
     "metadata": {},
     "output_type": "execute_result"
    }
   ],
   "source": [
    "cabean.attractors(bn2)"
   ]
  },
  {
   "cell_type": "code",
   "execution_count": 15,
   "metadata": {},
   "outputs": [
    {
     "name": "stdout",
     "output_type": "stream",
     "text": [
      "************************************************************************\n",
      "                       MCMAS v2.0 parallel (beta) \n",
      "\n",
      " This software comes with ABSOLUTELY NO WARRANTY, to the extent\n",
      " permitted by applicable law. \n",
      "\n",
      " Please check http://vas.doc.ic.ac.uk/tools/mcmas/ for the latest release.\n",
      " Please send any feedback to <mcmas@imperial.ac.uk>\n",
      "************************************************************************\n",
      "\n",
      "\n",
      "Command line: cabean -asynbn -newtarjan -newpred -steadystates -compositional 2 /tmp/cabean.ispl\n",
      "======================== find attractor #1 : 4 states ========================\n",
      ": 1 nodes 1 leaves 4 minterms\n",
      "----  1\n",
      "\n",
      "number of attractors = 1\n",
      "time for attractor detection=0\n",
      "\n"
     ]
    },
    {
     "data": {
      "text/plain": [
       "[{'a': '*', 'b': '*'}]"
      ]
     },
     "execution_count": 15,
     "metadata": {},
     "output_type": "execute_result"
    }
   ],
   "source": [
    "cabean.attractors(BooleanNetwork({\"a\": \"!b\", \"b\": \"a\"}))"
   ]
  },
  {
   "cell_type": "code",
   "execution_count": null,
   "metadata": {},
   "outputs": [],
   "source": []
  }
 ],
 "metadata": {
  "kernelspec": {
   "display_name": "Python 3",
   "language": "python3",
   "name": "python3"
  },
  "language_info": {
   "codemirror_mode": {
    "name": "ipython",
    "version": 3
   },
   "file_extension": ".py",
   "mimetype": "text/x-python",
   "name": "python",
   "nbconvert_exporter": "python",
   "pygments_lexer": "ipython3",
   "version": "3.7.3"
  }
 },
 "nbformat": 4,
 "nbformat_minor": 4
}
