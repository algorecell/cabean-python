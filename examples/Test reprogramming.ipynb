{
 "cells": [
  {
   "cell_type": "code",
   "execution_count": 1,
   "metadata": {},
   "outputs": [],
   "source": [
    "%load_ext autoreload\n",
    "%autoreload 2"
   ]
  },
  {
   "cell_type": "code",
   "execution_count": 2,
   "metadata": {},
   "outputs": [],
   "source": [
    "from colomoto.minibn import BooleanNetwork\n",
    "import cabean"
   ]
  },
  {
   "cell_type": "code",
   "execution_count": 12,
   "metadata": {},
   "outputs": [
    {
     "data": {
      "text/plain": [
       "a <- b&i\n",
       "b <- a\n",
       "c <- b|c\n",
       "d <- c&e\n",
       "e <- d\n",
       "i <- 0"
      ]
     },
     "execution_count": 12,
     "metadata": {},
     "output_type": "execute_result"
    }
   ],
   "source": [
    "bn = BooleanNetwork()\n",
    "bn[\"a\"] = \"b & i\"\n",
    "bn[\"b\"] = \"a\"\n",
    "bn[\"i\"] = False\n",
    "bn[\"c\"] = \"b|c\"\n",
    "bn[\"d\"] = \"c & e\"\n",
    "bn[\"e\"] = \"d\"\n",
    "bn"
   ]
  },
  {
   "cell_type": "code",
   "execution_count": 22,
   "metadata": {},
   "outputs": [],
   "source": [
    "iface = cabean.CabeanIface(bn, init={\"c\": 1})\n",
    "iface.red = {\"d\": 1}"
   ]
  },
  {
   "cell_type": "code",
   "execution_count": 26,
   "metadata": {},
   "outputs": [],
   "source": [
    "res = iface.execute(\"-compositional\", \"2\", \"-control\", \"1\")"
   ]
  },
  {
   "cell_type": "code",
   "execution_count": 29,
   "metadata": {},
   "outputs": [
    {
     "name": "stdout",
     "output_type": "stream",
     "text": [
      "************************************************************************\n",
      "                       MCMAS v2.0 parallel (beta) \n",
      "\n",
      " This software comes with ABSOLUTELY NO WARRANTY, to the extent\n",
      " permitted by applicable law. \n",
      "\n",
      " Please check http://vas.doc.ic.ac.uk/tools/mcmas/ for the latest release.\n",
      " Please send any feedback to <mcmas@imperial.ac.uk>\n",
      "************************************************************************\n",
      "\n",
      "\n",
      "Command line: cabean -asynbn -newtarjan -newpred -steadystates -compositional 2 -control 1 /tmp/cabean1e5oomas.ispl\n",
      "======================== find attractor #1 : 1 states ========================\n",
      ": 7 nodes 1 leaves 1 minterms\n",
      "0-0-1-0-0-0-  1\n",
      "\n",
      "======================== find attractor #2 : 1 states ========================\n",
      ": 7 nodes 1 leaves 1 minterms\n",
      "0-0-1-1-1-0-  1\n",
      "\n",
      "number of attractors = 2\n",
      "time for attractor detection=0.001\n",
      "\n",
      "\n",
      "====== START ONE-STEP INSTANTANEOUS STC (ASY-DECOMP) ======\n",
      "\n",
      "---------------------------------------\n",
      "source - 1 target - 2\n",
      "The number of driver nodes is: 2\n",
      "All the driver nodes are: \n",
      "d e \n",
      "\n",
      "---------------------------------------\n",
      "source - 2 target - 1\n",
      "The number of driver nodes is: 2\n",
      "All the driver nodes are: \n",
      "d e \n",
      "*****************************************************************************\n",
      "\n",
      "print all the time costs:\n",
      "\n",
      "0\t0\t\n",
      "0.001\t0\t\n",
      "\n",
      "print the number of driver nodes:\n",
      "\n",
      "0\t2\t\n",
      "2\t0\t\n",
      "\n",
      "\n",
      "total time costs=0.001\n",
      "\n",
      "======================== END CONTROL ===============================\n",
      "\n",
      "\n",
      "\n"
     ]
    }
   ],
   "source": [
    "print(res)"
   ]
  },
  {
   "cell_type": "code",
   "execution_count": 31,
   "metadata": {},
   "outputs": [
    {
     "data": {
      "text/plain": [
       "{1: {'a': 0, 'b': 0, 'c': 1, 'd': 0, 'e': 0, 'i': 0},\n",
       " 2: {'a': 0, 'b': 0, 'c': 1, 'd': 1, 'e': 1, 'i': 0}}"
      ]
     },
     "execution_count": 31,
     "metadata": {},
     "output_type": "execute_result"
    }
   ],
   "source": [
    "res.parse_attractors()"
   ]
  },
  {
   "cell_type": "code",
   "execution_count": null,
   "metadata": {},
   "outputs": [],
   "source": []
  }
 ],
 "metadata": {
  "kernelspec": {
   "display_name": "Python 3",
   "language": "python",
   "name": "python3"
  },
  "language_info": {
   "codemirror_mode": {
    "name": "ipython",
    "version": 3
   },
   "file_extension": ".py",
   "mimetype": "text/x-python",
   "name": "python",
   "nbconvert_exporter": "python",
   "pygments_lexer": "ipython3",
   "version": "3.7.4"
  }
 },
 "nbformat": 4,
 "nbformat_minor": 2
}
