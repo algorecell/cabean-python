{
 "cells": [
  {
   "cell_type": "code",
   "execution_count": 1,
   "metadata": {},
   "outputs": [],
   "source": [
    "from colomoto import minibn\n",
    "from colomoto_jupyter import tabulate"
   ]
  },
  {
   "cell_type": "code",
   "execution_count": 2,
   "metadata": {},
   "outputs": [],
   "source": [
    "import cabean"
   ]
  },
  {
   "cell_type": "code",
   "execution_count": 3,
   "metadata": {},
   "outputs": [
    {
     "data": {
      "text/plain": [
       "x1 <- x2&(!(x3&!x4&!x5))\n",
       "x2 <- x1\n",
       "x3 <- x2|!x4\n",
       "x4 <- x5\n",
       "x5 <- !x3"
      ]
     },
     "execution_count": 3,
     "metadata": {},
     "output_type": "execute_result"
    }
   ],
   "source": [
    "bn = minibn.BooleanNetwork({\n",
    "    \"x1\": \"x2 & !(x3&!x4&!x5)\",\n",
    "    \"x2\": \"x1\",\n",
    "    \"x3\": \"x2 | !x4\",\n",
    "    \"x4\": \"x5\",\n",
    "    \"x5\": \"!x3\"\n",
    "})\n",
    "bn"
   ]
  },
  {
   "cell_type": "code",
   "execution_count": 4,
   "metadata": {},
   "outputs": [
    {
     "data": {
      "text/markdown": [
       "<table>\n",
       "<thead>\n",
       "<tr><th style=\"text-align: right;\">  </th><th style=\"text-align: right;\">  x1</th><th style=\"text-align: right;\">  x2</th><th style=\"text-align: right;\">  x3</th><th style=\"text-align: right;\">  x4</th><th style=\"text-align: right;\">  x5</th></tr>\n",
       "</thead>\n",
       "<tbody>\n",
       "<tr><td style=\"text-align: right;\"> 0</td><td style=\"text-align: right;\">   0</td><td style=\"text-align: right;\">   0</td><td style=\"text-align: right;\">   1</td><td style=\"text-align: right;\">   0</td><td style=\"text-align: right;\">   0</td></tr>\n",
       "<tr><td style=\"text-align: right;\"> 1</td><td style=\"text-align: right;\">   0</td><td style=\"text-align: right;\">   0</td><td style=\"text-align: right;\">   0</td><td style=\"text-align: right;\">   1</td><td style=\"text-align: right;\">   1</td></tr>\n",
       "</tbody>\n",
       "</table>"
      ],
      "text/plain": [
       "<IPython.core.display.Markdown object>"
      ]
     },
     "execution_count": 4,
     "metadata": {},
     "output_type": "execute_result"
    }
   ],
   "source": [
    "a = cabean.attractors(bn)\n",
    "tabulate(a)"
   ]
  },
  {
   "cell_type": "code",
   "execution_count": 5,
   "metadata": {},
   "outputs": [],
   "source": [
    "roi = cabean.OneStepReprogramming(bn)"
   ]
  },
  {
   "cell_type": "code",
   "execution_count": 7,
   "metadata": {},
   "outputs": [
    {
     "data": {
      "text/html": [
       "<style  type=\"text/css\" >\n",
       "    #T_f71134ec_30aa_11ea_a721_9cb6d093e143 th {\n",
       "          border-right: 1px solid black;\n",
       "    }    #T_f71134ec_30aa_11ea_a721_9cb6d093e143 td {\n",
       "          border-right: 1px solid black;\n",
       "          min-width: 2em;\n",
       "    }    #T_f71134ec_30aa_11ea_a721_9cb6d093e143 th.col_heading {\n",
       "          writing-mode: vertical-lr;\n",
       "          transform: rotateZ(180deg);\n",
       "          vertical-align: top;\n",
       "          border-bottom: 1px solid black;\n",
       "          text-orientation: mixed;\n",
       "    }    #T_f71134ec_30aa_11ea_a721_9cb6d093e143row0_col0 {\n",
       "            color:  green;\n",
       "             background-color:  green;\n",
       "        }    #T_f71134ec_30aa_11ea_a721_9cb6d093e143row0_col1 {\n",
       "            color:  green;\n",
       "             background-color:  green;\n",
       "        }</style><table id=\"T_f71134ec_30aa_11ea_a721_9cb6d093e143\" ><thead>    <tr>        <th class=\"blank level0\" ></th>        <th class=\"col_heading level0 col0\" >x1</th>        <th class=\"col_heading level0 col1\" >x2</th>    </tr></thead><tbody>\n",
       "                <tr>\n",
       "                        <th id=\"T_f71134ec_30aa_11ea_a721_9cb6d093e143level0_row0\" class=\"row_heading level0 row0\" >0</th>\n",
       "                        <td id=\"T_f71134ec_30aa_11ea_a721_9cb6d093e143row0_col0\" class=\"data row0 col0\" >1</td>\n",
       "                        <td id=\"T_f71134ec_30aa_11ea_a721_9cb6d093e143row0_col1\" class=\"data row0 col1\" >1</td>\n",
       "            </tr>\n",
       "    </tbody></table>"
      ],
      "text/plain": [
       "<pandas.io.formats.style.Styler at 0x7f7d55c1d950>"
      ]
     },
     "execution_count": 7,
     "metadata": {},
     "output_type": "execute_result"
    }
   ],
   "source": [
    "roi.attractor_to_attractor({\"x4\": 1}, {\"x3\": 1}).as_table()"
   ]
  },
  {
   "cell_type": "code",
   "execution_count": 8,
   "metadata": {},
   "outputs": [
    {
     "data": {
      "text/html": [
       "<style  type=\"text/css\" >\n",
       "    #T_fd4f6d9c_30aa_11ea_a721_9cb6d093e143 th {\n",
       "          border-right: 1px solid black;\n",
       "    }    #T_fd4f6d9c_30aa_11ea_a721_9cb6d093e143 td {\n",
       "          border-right: 1px solid black;\n",
       "          min-width: 2em;\n",
       "    }    #T_fd4f6d9c_30aa_11ea_a721_9cb6d093e143 th.col_heading {\n",
       "          writing-mode: vertical-lr;\n",
       "          transform: rotateZ(180deg);\n",
       "          vertical-align: top;\n",
       "          border-bottom: 1px solid black;\n",
       "          text-orientation: mixed;\n",
       "    }    #T_fd4f6d9c_30aa_11ea_a721_9cb6d093e143row0_col0 {\n",
       "            color:  green;\n",
       "             background-color:  green;\n",
       "        }    #T_fd4f6d9c_30aa_11ea_a721_9cb6d093e143row0_col1 {\n",
       "            color:  red;\n",
       "             background-color:  red;\n",
       "        }    #T_fd4f6d9c_30aa_11ea_a721_9cb6d093e143row0_col2 {\n",
       "            color:  red;\n",
       "             background-color:  red;\n",
       "        }</style><table id=\"T_fd4f6d9c_30aa_11ea_a721_9cb6d093e143\" ><thead>    <tr>        <th class=\"blank level0\" ></th>        <th class=\"col_heading level0 col0\" >x3</th>        <th class=\"col_heading level0 col1\" >x4</th>        <th class=\"col_heading level0 col2\" >x5</th>    </tr></thead><tbody>\n",
       "                <tr>\n",
       "                        <th id=\"T_fd4f6d9c_30aa_11ea_a721_9cb6d093e143level0_row0\" class=\"row_heading level0 row0\" >0</th>\n",
       "                        <td id=\"T_fd4f6d9c_30aa_11ea_a721_9cb6d093e143row0_col0\" class=\"data row0 col0\" >1</td>\n",
       "                        <td id=\"T_fd4f6d9c_30aa_11ea_a721_9cb6d093e143row0_col1\" class=\"data row0 col1\" >0</td>\n",
       "                        <td id=\"T_fd4f6d9c_30aa_11ea_a721_9cb6d093e143row0_col2\" class=\"data row0 col2\" >0</td>\n",
       "            </tr>\n",
       "    </tbody></table>"
      ],
      "text/plain": [
       "<pandas.io.formats.style.Styler at 0x7f7d55f7c4d0>"
      ]
     },
     "execution_count": 8,
     "metadata": {},
     "output_type": "execute_result"
    }
   ],
   "source": [
    "roi.attractor_to_attractor({\"x4\": 1}, {\"x3\": 1}, exclude={\"x1\"}).as_table()"
   ]
  },
  {
   "cell_type": "code",
   "execution_count": null,
   "metadata": {},
   "outputs": [],
   "source": []
  }
 ],
 "metadata": {
  "kernelspec": {
   "display_name": "Python 3",
   "language": "python",
   "name": "python3"
  },
  "language_info": {
   "codemirror_mode": {
    "name": "ipython",
    "version": 3
   },
   "file_extension": ".py",
   "mimetype": "text/x-python",
   "name": "python",
   "nbconvert_exporter": "python",
   "pygments_lexer": "ipython3",
   "version": "3.7.6"
  }
 },
 "nbformat": 4,
 "nbformat_minor": 2
}
