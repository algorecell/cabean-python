{
 "cells": [
  {
   "cell_type": "code",
   "execution_count": 1,
   "metadata": {},
   "outputs": [],
   "source": [
    "from colomoto import minibn\n",
    "from colomoto_jupyter import tabulate"
   ]
  },
  {
   "cell_type": "code",
   "execution_count": 2,
   "metadata": {},
   "outputs": [],
   "source": [
    "import cabean"
   ]
  },
  {
   "cell_type": "code",
   "execution_count": 3,
   "metadata": {},
   "outputs": [
    {
     "data": {
      "text/plain": [
       "x1 <- x2&(!(x3&!x4&!x5))\n",
       "x2 <- x1\n",
       "x3 <- x2|!x4\n",
       "x4 <- x5\n",
       "x5 <- !x3"
      ]
     },
     "execution_count": 3,
     "metadata": {},
     "output_type": "execute_result"
    }
   ],
   "source": [
    "bn = minibn.BooleanNetwork({\n",
    "    \"x1\": \"x2 & !(x3&!x4&!x5)\",\n",
    "    \"x2\": \"x1\",\n",
    "    \"x3\": \"x2 | !x4\",\n",
    "    \"x4\": \"x5\",\n",
    "    \"x5\": \"!x3\"\n",
    "})\n",
    "bn"
   ]
  },
  {
   "cell_type": "code",
   "execution_count": 4,
   "metadata": {},
   "outputs": [
    {
     "data": {
      "text/html": [
       "<div>\n",
       "<style scoped>\n",
       "    .dataframe tbody tr th:only-of-type {\n",
       "        vertical-align: middle;\n",
       "    }\n",
       "\n",
       "    .dataframe tbody tr th {\n",
       "        vertical-align: top;\n",
       "    }\n",
       "\n",
       "    .dataframe thead th {\n",
       "        text-align: right;\n",
       "    }\n",
       "</style>\n",
       "<table border=\"1\" class=\"dataframe\">\n",
       "  <thead>\n",
       "    <tr style=\"text-align: right;\">\n",
       "      <th></th>\n",
       "      <th>x1</th>\n",
       "      <th>x2</th>\n",
       "      <th>x3</th>\n",
       "      <th>x4</th>\n",
       "      <th>x5</th>\n",
       "    </tr>\n",
       "  </thead>\n",
       "  <tbody>\n",
       "    <tr>\n",
       "      <th>0</th>\n",
       "      <td>0</td>\n",
       "      <td>0</td>\n",
       "      <td>0</td>\n",
       "      <td>1</td>\n",
       "      <td>1</td>\n",
       "    </tr>\n",
       "    <tr>\n",
       "      <th>1</th>\n",
       "      <td>0</td>\n",
       "      <td>0</td>\n",
       "      <td>1</td>\n",
       "      <td>0</td>\n",
       "      <td>0</td>\n",
       "    </tr>\n",
       "  </tbody>\n",
       "</table>\n",
       "</div>"
      ],
      "text/plain": [
       "   x1  x2  x3  x4  x5\n",
       "0   0   0   0   1   1\n",
       "1   0   0   1   0   0"
      ]
     },
     "execution_count": 4,
     "metadata": {},
     "output_type": "execute_result"
    }
   ],
   "source": [
    "a = cabean.attractors(bn)\n",
    "tabulate(a)"
   ]
  },
  {
   "cell_type": "code",
   "execution_count": 5,
   "metadata": {},
   "outputs": [],
   "source": [
    "roi = cabean.OneStep_Instantaneous(bn)"
   ]
  },
  {
   "cell_type": "code",
   "execution_count": 6,
   "metadata": {},
   "outputs": [
    {
     "data": {
      "text/html": [
       "<style  type=\"text/css\" >\n",
       "    #T_00614b50_9aea_11ea_902d_c8f75093d583 th {\n",
       "          border-right: 1px solid black;\n",
       "    }    #T_00614b50_9aea_11ea_902d_c8f75093d583 td {\n",
       "          border-right: 1px solid black;\n",
       "          min-width: 2em;\n",
       "    }    #T_00614b50_9aea_11ea_902d_c8f75093d583 th.col_heading {\n",
       "          writing-mode: vertical-lr;\n",
       "          transform: rotateZ(180deg);\n",
       "          vertical-align: top;\n",
       "          border-bottom: 1px solid black;\n",
       "          text-orientation: mixed;\n",
       "    }    #T_00614b50_9aea_11ea_902d_c8f75093d583row0_col0 {\n",
       "            color:  black;\n",
       "             background-color:  red;\n",
       "        }    #T_00614b50_9aea_11ea_902d_c8f75093d583row0_col1 {\n",
       "            color:  black;\n",
       "             background-color:  red;\n",
       "        }</style><table id=\"T_00614b50_9aea_11ea_902d_c8f75093d583\" ><thead>    <tr>        <th class=\"blank level0\" ></th>        <th class=\"col_heading level0 col0\" >x1</th>        <th class=\"col_heading level0 col1\" >x2</th>    </tr></thead><tbody>\n",
       "                <tr>\n",
       "                        <th id=\"T_00614b50_9aea_11ea_902d_c8f75093d583level0_row0\" class=\"row_heading level0 row0\" >0</th>\n",
       "                        <td id=\"T_00614b50_9aea_11ea_902d_c8f75093d583row0_col0\" class=\"data row0 col0\" >1</td>\n",
       "                        <td id=\"T_00614b50_9aea_11ea_902d_c8f75093d583row0_col1\" class=\"data row0 col1\" >1</td>\n",
       "            </tr>\n",
       "    </tbody></table>"
      ],
      "text/plain": [
       "<pandas.io.formats.style.Styler at 0x7f34e806b910>"
      ]
     },
     "execution_count": 6,
     "metadata": {},
     "output_type": "execute_result"
    }
   ],
   "source": [
    "roi.attractor_to_attractor({\"x4\": 1}, {\"x3\": 1}).as_table()"
   ]
  },
  {
   "cell_type": "code",
   "execution_count": 7,
   "metadata": {},
   "outputs": [
    {
     "data": {
      "text/html": [
       "<style  type=\"text/css\" >\n",
       "    #T_0065c5fe_9aea_11ea_902d_c8f75093d583 th {\n",
       "          border-right: 1px solid black;\n",
       "    }    #T_0065c5fe_9aea_11ea_902d_c8f75093d583 td {\n",
       "          border-right: 1px solid black;\n",
       "          min-width: 2em;\n",
       "    }    #T_0065c5fe_9aea_11ea_902d_c8f75093d583 th.col_heading {\n",
       "          writing-mode: vertical-lr;\n",
       "          transform: rotateZ(180deg);\n",
       "          vertical-align: top;\n",
       "          border-bottom: 1px solid black;\n",
       "          text-orientation: mixed;\n",
       "    }    #T_0065c5fe_9aea_11ea_902d_c8f75093d583row0_col0 {\n",
       "            color:  black;\n",
       "             background-color:  red;\n",
       "        }    #T_0065c5fe_9aea_11ea_902d_c8f75093d583row0_col1 {\n",
       "            color:  black;\n",
       "             background-color:  lime;\n",
       "        }    #T_0065c5fe_9aea_11ea_902d_c8f75093d583row0_col2 {\n",
       "            color:  black;\n",
       "             background-color:  lime;\n",
       "        }</style><table id=\"T_0065c5fe_9aea_11ea_902d_c8f75093d583\" ><thead>    <tr>        <th class=\"blank level0\" ></th>        <th class=\"col_heading level0 col0\" >x3</th>        <th class=\"col_heading level0 col1\" >x4</th>        <th class=\"col_heading level0 col2\" >x5</th>    </tr></thead><tbody>\n",
       "                <tr>\n",
       "                        <th id=\"T_0065c5fe_9aea_11ea_902d_c8f75093d583level0_row0\" class=\"row_heading level0 row0\" >0</th>\n",
       "                        <td id=\"T_0065c5fe_9aea_11ea_902d_c8f75093d583row0_col0\" class=\"data row0 col0\" >1</td>\n",
       "                        <td id=\"T_0065c5fe_9aea_11ea_902d_c8f75093d583row0_col1\" class=\"data row0 col1\" >0</td>\n",
       "                        <td id=\"T_0065c5fe_9aea_11ea_902d_c8f75093d583row0_col2\" class=\"data row0 col2\" >0</td>\n",
       "            </tr>\n",
       "    </tbody></table>"
      ],
      "text/plain": [
       "<pandas.io.formats.style.Styler at 0x7f34c8977f90>"
      ]
     },
     "execution_count": 7,
     "metadata": {},
     "output_type": "execute_result"
    }
   ],
   "source": [
    "roi.attractor_to_attractor({\"x4\": 1}, {\"x3\": 1}, exclude={\"x1\"}).as_table()"
   ]
  },
  {
   "cell_type": "code",
   "execution_count": null,
   "metadata": {},
   "outputs": [],
   "source": []
  }
 ],
 "metadata": {
  "kernelspec": {
   "display_name": "Python 3",
   "language": "python",
   "name": "python3"
  },
  "language_info": {
   "codemirror_mode": {
    "name": "ipython",
    "version": 3
   },
   "file_extension": ".py",
   "mimetype": "text/x-python",
   "name": "python",
   "nbconvert_exporter": "python",
   "pygments_lexer": "ipython3",
   "version": "3.7.7"
  }
 },
 "nbformat": 4,
 "nbformat_minor": 2
}
